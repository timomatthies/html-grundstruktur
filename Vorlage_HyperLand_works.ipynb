{
  "nbformat": 4,
  "nbformat_minor": 0,
  "metadata": {
    "colab": {
      "provenance": [],
      "authorship_tag": "ABX9TyPO8r3i/eOXbibKx/bJfiND",
      "include_colab_link": true
    },
    "kernelspec": {
      "name": "python3",
      "display_name": "Python 3"
    },
    "language_info": {
      "name": "python"
    }
  },
  "cells": [
    {
      "cell_type": "markdown",
      "metadata": {
        "id": "view-in-github",
        "colab_type": "text"
      },
      "source": [
        "<a href=\"https://colab.research.google.com/github/timomatthies/html-grundstruktur/blob/master/Vorlage_HyperLand_works.ipynb\" target=\"_parent\"><img src=\"https://colab.research.google.com/assets/colab-badge.svg\" alt=\"Open In Colab\"/></a>"
      ]
    },
    {
      "cell_type": "code",
      "execution_count": null,
      "metadata": {
        "id": "5U0eB51_nRwl"
      },
      "outputs": [],
      "source": [
        "import ee\n",
        "import geemap\n",
        "import random\n",
        "\n",
        "ee.Authenticate()\n",
        "ee.Initialize(project='ee-timomatthies17')\n",
        "\n",
        "#Insert point and buffer here\n",
        "point = 1.577, 28.337\n",
        "buffer = 50000\n",
        "buffer_test = 50\n",
        "\n",
        "# Define a region of interest\n",
        "roi = ee.Geometry.Point(point[1], point[0])  # Create a buffer around the point\n",
        "\n",
        "point_lat = point[0]\n",
        "point_long = point[1]\n",
        "\n",
        "print(\"Point Latitude:\", point_lat)\n",
        "print(\"Point Longitude:\", point_long)\n",
        "\n",
        "#Load and filter Dataset, apply scaling factors\n",
        "l8 = ee.ImageCollection(\"LANDSAT/LC08/C02/T1_L2\")\n",
        "\n",
        "l8_filtered = l8 \\\n",
        "  .filterDate('2021-05-01', '2021-09-01') \\\n",
        "  .filterBounds(roi)\n",
        "  #.filterMetadata('CLOUD_COVER', 'less_than', 10) \\\n",
        "  #.sort(\"CLOUD_COVER\") \\\n",
        "\n",
        "\n",
        "# Applies scaling factors.\n",
        "def apply_scale_factors(image):\n",
        "  optical_bands = image.select('SR_B.').multiply(0.0000275).add(-0.2)\n",
        "  thermal_bands = image.select('ST_B.*').multiply(0.00341802).add(149.0)\n",
        "  return image.addBands(optical_bands, None, True).addBands(\n",
        "      thermal_bands, None, True\n",
        "  )\n",
        "\n",
        "# Apply scale factors to the dataset\n",
        "l8_filtered = l8_filtered.map(apply_scale_factors)\n",
        "\n",
        "# Construct an Image from the Dataset\n",
        "my_image = l8_filtered.first()\n",
        "\n",
        "print(type(my_image))\n",
        "print(type(l8_filtered))\n",
        "\n",
        "#selected bands\n",
        "bands = ['SR_B2', 'SR_B6', 'SR_B5']\n",
        "\n",
        "# Visualization parameters\n",
        "visualization = {\n",
        "    'bands': bands,\n",
        "     #'bands': random_elements,\n",
        "    'min': 0.0,\n",
        "    'max': 1,\n",
        "    'gamma': 1,\n",
        "}\n",
        "\n",
        "# my_image_vis = my_image.visualize(**viz_params)\n",
        "\n",
        "Map = geemap.Map(center=(point[0],point[1]), zoom=12, height=1000)\n",
        "Map.addLayer(my_image, visualization, 'Timo Color Image')\n",
        "# Map.addLayer(l8_filtered, viz_params, 'Current Test: ' + str(viz_params['bands'][0]))\n",
        "# Map.add_basemap(\"SATELLITE\")\n",
        "# Map.add_basemap(\"OpenTopoMap\")\n",
        "Map"
      ]
    },
    {
      "cell_type": "code",
      "source": [
        "# Get image properties\n",
        "props = geemap.image_props(my_image)\n",
        "\n",
        "# Get information about the properties\n",
        "props_info = props.getInfo()\n",
        "\n",
        "# Access the system:index property\n",
        "system_id = props_info.get('system:id')\n",
        "\n",
        "filename = (\"HL_\" +\n",
        "            'LAT-' + str(point[0]) + # Latitude\n",
        "            '_LONG-' + str(point[1]) + # Longitude\n",
        "            '_BUF-' + str(buffer) + # Buffer\n",
        "            \"_BANDS-\" +\n",
        "            str(bands[0]).replace('_', '') + \"/\" + str(bands[1]).replace('_', '') + \"/\" + str(bands[0]).replace('_', '') + # Bands\n",
        "            \"_ID-\" +\n",
        "            system_id) # Image ID"
      ],
      "metadata": {
        "colab": {
          "base_uri": "https://localhost:8080/",
          "height": 17
        },
        "id": "Fsysk6d6S1XX",
        "outputId": "0465ac4a-5fef-4bdf-e7a8-20e1a0759edc"
      },
      "execution_count": null,
      "outputs": [
        {
          "output_type": "display_data",
          "data": {
            "text/plain": [
              "<IPython.core.display.HTML object>"
            ],
            "text/html": [
              "\n",
              "            <style>\n",
              "                .geemap-dark {\n",
              "                    --jp-widgets-color: white;\n",
              "                    --jp-widgets-label-color: white;\n",
              "                    --jp-ui-font-color1: white;\n",
              "                    --jp-layout-color2: #454545;\n",
              "                    background-color: #383838;\n",
              "                }\n",
              "\n",
              "                .geemap-dark .jupyter-button {\n",
              "                    --jp-layout-color3: #383838;\n",
              "                }\n",
              "\n",
              "                .geemap-colab {\n",
              "                    background-color: var(--colab-primary-surface-color, white);\n",
              "                }\n",
              "\n",
              "                .geemap-colab .jupyter-button {\n",
              "                    --jp-layout-color3: var(--colab-primary-surface-color, white);\n",
              "                }\n",
              "            </style>\n",
              "            "
            ]
          },
          "metadata": {}
        }
      ]
    },
    {
      "cell_type": "code",
      "source": [
        "# Export image to Google Drive\n",
        "export_params = {\n",
        "    'image': my_image.visualize(**visualization),  # Fix the visualization part\n",
        "    'description': 'export',\n",
        "    'folder': 'EarthEngine_Export',  # Specify your Google Drive folder\n",
        "    'fileNamePrefix': filename,\n",
        "    'region': roi.buffer(buffer),\n",
        "    'scale': 10,  # Set the scale (resolution) of the exported image\n",
        "}\n",
        "task = ee.batch.Export.image.toDrive(**export_params)\n",
        "task.start()\n",
        "\n",
        "print('Exporting image to Google Drive...')"
      ],
      "metadata": {
        "colab": {
          "base_uri": "https://localhost:8080/",
          "height": 34
        },
        "id": "ionkEAKTokkR",
        "outputId": "123f46b8-0197-4363-d2ab-4f1a60a5e556"
      },
      "execution_count": null,
      "outputs": [
        {
          "output_type": "display_data",
          "data": {
            "text/plain": [
              "<IPython.core.display.HTML object>"
            ],
            "text/html": [
              "\n",
              "            <style>\n",
              "                .geemap-dark {\n",
              "                    --jp-widgets-color: white;\n",
              "                    --jp-widgets-label-color: white;\n",
              "                    --jp-ui-font-color1: white;\n",
              "                    --jp-layout-color2: #454545;\n",
              "                    background-color: #383838;\n",
              "                }\n",
              "\n",
              "                .geemap-dark .jupyter-button {\n",
              "                    --jp-layout-color3: #383838;\n",
              "                }\n",
              "\n",
              "                .geemap-colab {\n",
              "                    background-color: var(--colab-primary-surface-color, white);\n",
              "                }\n",
              "\n",
              "                .geemap-colab .jupyter-button {\n",
              "                    --jp-layout-color3: var(--colab-primary-surface-color, white);\n",
              "                }\n",
              "            </style>\n",
              "            "
            ]
          },
          "metadata": {}
        },
        {
          "output_type": "stream",
          "name": "stdout",
          "text": [
            "Exporting image to Google Drive...\n"
          ]
        }
      ]
    },
    {
      "cell_type": "code",
      "source": [
        "# Initialize counter\n",
        "export_counter = 1\n",
        "\n",
        "# Function to export image to Google Drive\n",
        "def export_image(image):\n",
        "    global export_counter  # Declare export_counter as a global variable\n",
        "\n",
        "    # Construct file name with iteration variable\n",
        "    file_name = 'image-' + str(export_counter)\n",
        "\n",
        "    # Export the image to Google Drive\n",
        "    export_params = {\n",
        "        'image': image,\n",
        "        'description': file_name,\n",
        "        'folder': 'GEE_Export',  # Specify the folder in your Google Drive where you want to save the exported image\n",
        "        'scale': 30,  # Adjust scale as needed\n",
        "        'region': roi.buffer(buffer_test)\n",
        "    }\n",
        "\n",
        "    task = ee.batch.Export.image.toDrive(**export_params)\n",
        "    task.start()\n",
        "\n",
        "    # Increment the export counter\n",
        "    export_counter += 1\n",
        "\n",
        "export_image(my_image)"
      ],
      "metadata": {
        "colab": {
          "base_uri": "https://localhost:8080/",
          "height": 17
        },
        "id": "5eM29BZroIpb",
        "outputId": "8a879b76-d326-4596-905e-c4036916a0ba"
      },
      "execution_count": null,
      "outputs": [
        {
          "output_type": "display_data",
          "data": {
            "text/plain": [
              "<IPython.core.display.HTML object>"
            ],
            "text/html": [
              "\n",
              "            <style>\n",
              "                .geemap-dark {\n",
              "                    --jp-widgets-color: white;\n",
              "                    --jp-widgets-label-color: white;\n",
              "                    --jp-ui-font-color1: white;\n",
              "                    --jp-layout-color2: #454545;\n",
              "                    background-color: #383838;\n",
              "                }\n",
              "\n",
              "                .geemap-dark .jupyter-button {\n",
              "                    --jp-layout-color3: #383838;\n",
              "                }\n",
              "\n",
              "                .geemap-colab {\n",
              "                    background-color: var(--colab-primary-surface-color, white);\n",
              "                }\n",
              "\n",
              "                .geemap-colab .jupyter-button {\n",
              "                    --jp-layout-color3: var(--colab-primary-surface-color, white);\n",
              "                }\n",
              "            </style>\n",
              "            "
            ]
          },
          "metadata": {}
        }
      ]
    }
  ]
}